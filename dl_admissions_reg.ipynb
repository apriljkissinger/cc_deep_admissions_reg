{
 "cells": [
  {
   "cell_type": "markdown",
   "id": "e624ec57",
   "metadata": {},
   "source": [
    "## Deep Learning Gradauate School Admission Regression\n",
    "\n",
    "This notebook was built for the Graduate School Admissions Regression Challenge Project for the Codecademy course: Build Deep Learning Models with TensorFlow.\n",
    "\n",
    "We were give a dataset with multiple variables to predict the chance a student will get into graduate school. The dataset can be found here:\n",
    "https://www.kaggle.com/mohansacharya/graduate-admissions?select=Admission_Predict_Ver1.1.csv\n",
    "\n",
    "### Importing necessary modules"
   ]
  },
  {
   "cell_type": "code",
   "execution_count": 49,
   "id": "86fafd13",
   "metadata": {},
   "outputs": [],
   "source": [
    "import tensorflow as tf\n",
    "import pandas as pd"
   ]
  },
  {
   "cell_type": "markdown",
   "id": "267d8a40",
   "metadata": {},
   "source": [
    "### Reading in data and getting a first look"
   ]
  },
  {
   "cell_type": "code",
   "execution_count": 50,
   "id": "43644504",
   "metadata": {},
   "outputs": [],
   "source": [
    "#reading in data\n",
    "adm_data = pd.read_csv('admissions_data.csv')"
   ]
  },
  {
   "cell_type": "code",
   "execution_count": 51,
   "id": "ac9473f9",
   "metadata": {},
   "outputs": [
    {
     "name": "stdout",
     "output_type": "stream",
     "text": [
      "   Serial No.  GRE Score  TOEFL Score  University Rating  SOP  LOR   CGPA  \\\n",
      "0           1        337          118                  4  4.5   4.5  9.65   \n",
      "1           2        324          107                  4  4.0   4.5  8.87   \n",
      "2           3        316          104                  3  3.0   3.5  8.00   \n",
      "3           4        322          110                  3  3.5   2.5  8.67   \n",
      "4           5        314          103                  2  2.0   3.0  8.21   \n",
      "\n",
      "   Research  Chance of Admit   \n",
      "0         1              0.92  \n",
      "1         1              0.76  \n",
      "2         1              0.72  \n",
      "3         1              0.80  \n",
      "4         0              0.65  \n"
     ]
    }
   ],
   "source": [
    "#looking at the first 5 rows\n",
    "print(adm_data.head())\n",
    "# print(adm_data.columns)\n",
    "# print(adm_data.describe())"
   ]
  },
  {
   "cell_type": "markdown",
   "id": "26a15313",
   "metadata": {},
   "source": [
    "(Taken from the codecademy website)  \n",
    "This dataset has nine different columns:  \n",
    "\n",
    "Serial No.: Index of each row (1-500)  \n",
    "GRE Score: GRE test score (out of 340)  \n",
    "TOEFL Score: TOEFL test score (out of 120)  \n",
    "University Rating: Evaluated university rating (out of 5)  \n",
    "SOP: Statement of Purpose Strength (out of 5)  \n",
    "LOR: Letter of Recommendation Strength (out of 5)  \n",
    "CGPA: Undergraduate GPA (out of 10)  \n",
    "Research: Has research experience (either 0 or 1)  \n",
    "Chance of Admit: Applicant’s chance of being admitted (ranging from 0 to 1)  \n",
    "\n",
    "### Checking for NA values"
   ]
  },
  {
   "cell_type": "code",
   "execution_count": 52,
   "id": "909d9c89",
   "metadata": {},
   "outputs": [
    {
     "data": {
      "text/plain": [
       "Serial No.           0\n",
       "GRE Score            0\n",
       "TOEFL Score          0\n",
       "University Rating    0\n",
       "SOP                  0\n",
       "LOR                  0\n",
       "CGPA                 0\n",
       "Research             0\n",
       "Chance of Admit      0\n",
       "dtype: int64"
      ]
     },
     "execution_count": 52,
     "metadata": {},
     "output_type": "execute_result"
    }
   ],
   "source": [
    "#checking for NA values\n",
    "adm_data.isna().sum()"
   ]
  },
  {
   "cell_type": "markdown",
   "id": "5088b6b6",
   "metadata": {},
   "source": [
    "### Renaming columns as appropriate"
   ]
  },
  {
   "cell_type": "code",
   "execution_count": 53,
   "id": "4ddad063",
   "metadata": {},
   "outputs": [
    {
     "name": "stdout",
     "output_type": "stream",
     "text": [
      "Index(['serial no.', 'gre score', 'toefl score', 'university rating', 'sop',\n",
      "       'lor ', 'cgpa', 'research', 'chance of admit '],\n",
      "      dtype='object')\n",
      "Index(['serial_no', 'gre_score', 'toefl_score', 'univ_rating', 'sop', 'lor ',\n",
      "       'cgpa', 'research', 'adm_percent'],\n",
      "      dtype='object')\n"
     ]
    }
   ],
   "source": [
    "#converting columns to lowercase and renaming\n",
    "adm_data.columns = map(str.lower, adm_data.columns)\n",
    "#renaming columns to make accessing them easier\n",
    "print(adm_data.columns)\n",
    "#there is a space at the end of 'chance of admit '\n",
    "adm_data = adm_data.rename(columns={'serial no.': 'serial_no', 'gre score': 'gre_score', 'toefl score': 'toefl_score', 'university rating': 'univ_rating', 'chance of admit ': 'adm_percent' })\n",
    "print(adm_data.columns)"
   ]
  },
  {
   "cell_type": "markdown",
   "id": "33ed2727",
   "metadata": {},
   "source": [
    "### Quick data exploration \n",
    "\n",
    "Looking at the min and max values of the response(dependent) variable."
   ]
  },
  {
   "cell_type": "code",
   "execution_count": 54,
   "id": "eb966685",
   "metadata": {},
   "outputs": [
    {
     "name": "stdout",
     "output_type": "stream",
     "text": [
      "0.97\n",
      "0.34\n"
     ]
    }
   ],
   "source": [
    "print(adm_data.adm_percent.max())\n",
    "print(adm_data.adm_percent.min())"
   ]
  },
  {
   "cell_type": "markdown",
   "id": "39fd0194",
   "metadata": {},
   "source": [
    "The TOEFL test is given to non-native English speakers applying to universities. Test Of English as a Foreign Language. It is interesting that this is not metioned in the description for the dataset as this is a particular group of students applying to universities."
   ]
  },
  {
   "cell_type": "code",
   "execution_count": 55,
   "id": "a7e3ceb1",
   "metadata": {},
   "outputs": [
    {
     "name": "stdout",
     "output_type": "stream",
     "text": [
      "[118 107 104 110 103 115 109 101 102 108 106 111 112 105 114 116 119 120\n",
      "  98  93  99  97 117 113 100  95  96  94  92]\n"
     ]
    }
   ],
   "source": [
    "print(adm_data.toefl_score.unique())"
   ]
  },
  {
   "cell_type": "markdown",
   "id": "490868ef",
   "metadata": {},
   "source": [
    "Every student has a TOEFL test value, therefore none of these applicants are native English speakers.\n",
    "\n",
    "Want to look at the corelation between all the variables to see if there are any independent variables that are highly correlated with one another, we usually remove these variable, also called multicollinear. Also want to see how these variables are correlated with the dependent variable, 'adm_percent'."
   ]
  },
  {
   "cell_type": "code",
   "execution_count": 56,
   "id": "e1c18ba2",
   "metadata": {},
   "outputs": [
    {
     "data": {
      "text/plain": [
       "Text(0.5, 1.0, 'Pearson Correlation Coefficients')"
      ]
     },
     "execution_count": 56,
     "metadata": {},
     "output_type": "execute_result"
    },
    {
     "data": {
      "image/png": "[encoded data removed]",
      "text/plain": [
       "<Figure size 1008x864 with 2 Axes>"
      ]
     },
     "metadata": {
      "needs_background": "light"
     },
     "output_type": "display_data"
    }
   ],
   "source": [
    "from matplotlib import pyplot as plt\n",
    "import seaborn as sns\n",
    "\n",
    "#removing serial_no. variable\n",
    "correlation = adm_data.iloc[:, 1:]\n",
    "\n",
    "#creating correaltion matrix as heatmap for easy detection of correaltion\n",
    "plt.figure(figsize=(14, 12))\n",
    "ax = sns.heatmap(correlation.corr(), annot = True, vmin=-1, vmax=1, center= 0, cmap=\"Spectral\")\n",
    "ax.set_title('Pearson Correlation Coefficients')\n"
   ]
  },
  {
   "cell_type": "markdown",
   "id": "f38b0557",
   "metadata": {},
   "source": [
    "None of our variables are multicollinear so we can use all of them as predictors. It is also seen that all of the independent variables are mig-highly correlated with our dependent variable. Looks like we are on the right track!\n",
    "\n",
    "Looking at the pair plot between all variables to look at the relationships."
   ]
  },
  {
   "cell_type": "code",
   "execution_count": null,
   "id": "e3737146",
   "metadata": {},
   "outputs": [
    {
     "data": {
      "text/plain": [
       "<seaborn.axisgrid.PairGrid at 0x7fef6fe3df10>"
      ]
     },
     "execution_count": 57,
     "metadata": {},
     "output_type": "execute_result"
    }
   ],
   "source": [
    "sns.pairplot(correlation)"
   ]
  },
  {
   "cell_type": "markdown",
   "id": "f6e68ec5",
   "metadata": {},
   "source": [
    "They all look to have postive linear relationships with one another, except 'research' as this is more categorical."
   ]
  },
  {
   "cell_type": "markdown",
   "id": "4cd123ff",
   "metadata": {},
   "source": [
    "### Creating feature and label datasets\n",
    "\n",
    "We are trying to predict the probability that someone will get into graduate school, therefore, we are trying to predict the 'adm_percent' or percent change of admission.\n",
    "\n",
    "Every column is numerical so no reason to perform one-hot encoding.\n",
    "Each column except 'serial_no' looks to be significant to the data analysis, I am not going to include this column in my analysis."
   ]
  },
  {
   "cell_type": "code",
   "execution_count": null,
   "id": "7b35f859",
   "metadata": {},
   "outputs": [],
   "source": [
    "#Splitting the data into feature and label sets\n",
    "labels = adm_data.iloc[:,-1]\n",
    "#print(labels)\n",
    "features = adm_data.iloc[:, 1:-1]\n",
    "print(features.head())"
   ]
  },
  {
   "cell_type": "markdown",
   "id": "a2e60b48",
   "metadata": {},
   "source": [
    "### Splitting data into train and test datasets"
   ]
  },
  {
   "cell_type": "code",
   "execution_count": null,
   "id": "43774392",
   "metadata": {},
   "outputs": [],
   "source": [
    "##Splitting data into train and test datasets\n",
    "from sklearn.model_selection import train_test_split\n",
    "train, test, train_labels, test_labels = train_test_split(features, labels, test_size = 0.20, random_state = 42)\n",
    "print(len(test))\n",
    "print(len(train))"
   ]
  },
  {
   "cell_type": "markdown",
   "id": "e7e70810",
   "metadata": {},
   "source": [
    "### Data Standardization\n",
    "\n",
    "As seen in the descriptions earlier, the data is on multiple scales. The best way to deal with this so as to work well with any model is to normalize the data."
   ]
  },
  {
   "cell_type": "code",
   "execution_count": null,
   "id": "617e0323",
   "metadata": {},
   "outputs": [],
   "source": [
    "#Standardizng all numerical columns in the dataset. In this case, that is all columns of data\n",
    "from sklearn.compose import ColumnTransformer\n",
    "from sklearn.preprocessing import StandardScaler\n",
    "num_features = features.select_dtypes(include=['float64', 'int64'])\n",
    "num_cols = num_features.columns\n",
    "ct = ColumnTransformer([('standardize', StandardScaler(), num_cols)], remainder = 'passthrough')\n",
    "train_scaled = ct.fit_transform(train)\n",
    "test_scaled = ct.transform(test)"
   ]
  },
  {
   "cell_type": "markdown",
   "id": "24f20336",
   "metadata": {},
   "source": [
    "### Model Creation"
   ]
  },
  {
   "cell_type": "code",
   "execution_count": null,
   "id": "d78ee4de",
   "metadata": {},
   "outputs": [],
   "source": [
    "#Using tf Sequential to start a model\n",
    "from tensorflow.keras.models import Sequential\n",
    "reg_model = Sequential()"
   ]
  },
  {
   "cell_type": "markdown",
   "id": "894f9846",
   "metadata": {},
   "source": [
    "### Input layer\n",
    "\n",
    "This layer has the same number of nodes as features in your data, an additional node can be added as a bias term"
   ]
  },
  {
   "cell_type": "code",
   "execution_count": null,
   "id": "4b78806c",
   "metadata": {},
   "outputs": [],
   "source": [
    "#Creating an input layer with the number of features in our dataset\n",
    "#Some neural networks add an additional node here for a bias term\n",
    "from tensorflow.keras import layers\n",
    "num_features = train_scaled.shape[1]\n",
    "input = layers.InputLayer(input_shape=(num_features,))\n",
    "reg_model.add(input)"
   ]
  },
  {
   "cell_type": "markdown",
   "id": "d61deac1",
   "metadata": {},
   "source": [
    "### Hidden Layers"
   ]
  },
  {
   "cell_type": "code",
   "execution_count": null,
   "id": "7bb6cab0",
   "metadata": {},
   "outputs": [],
   "source": [
    "#adding hidden layer with 64 neurons\n",
    "reg_model.add(layers.Dense(64, activation='relu'))"
   ]
  },
  {
   "cell_type": "markdown",
   "id": "1147fe0a",
   "metadata": {},
   "source": [
    "### Output layer\n",
    "\n",
    "Regression models have one output node as they are continous variables and not categorical"
   ]
  },
  {
   "cell_type": "code",
   "execution_count": null,
   "id": "9ee4bc7f",
   "metadata": {},
   "outputs": [],
   "source": [
    "#adding output layer\n",
    "reg_model.add(layers.Dense(1))"
   ]
  },
  {
   "cell_type": "markdown",
   "id": "22b464ed",
   "metadata": {},
   "source": [
    "### Backpropagation and model compilation\n",
    "\n",
    "Compiling the model with loss metrics and the SGD optimizer."
   ]
  },
  {
   "cell_type": "code",
   "execution_count": null,
   "id": "8e744bc3",
   "metadata": {},
   "outputs": [],
   "source": [
    "#importing optimizer and compiling model\n",
    "#from tensorflow.keras.optimizers import Adam\n",
    "from tensorflow.keras.optimizers import SGD\n",
    "opt = SGD(learning_rate=0.01)\n",
    "\n",
    "reg_model.compile(loss='mae',  metrics=['mean_squared_error'], optimizer=opt)\n"
   ]
  },
  {
   "cell_type": "markdown",
   "id": "8843d119",
   "metadata": {},
   "source": [
    "### Model fit and evaluation with early stopping\n",
    "\n",
    "Using early stopping to find number of epochs. Too many will lead to overfitting and too few will lead to underfitting. "
   ]
  },
  {
   "cell_type": "code",
   "execution_count": null,
   "id": "85805bc9",
   "metadata": {},
   "outputs": [],
   "source": [
    "from tensorflow.keras.callbacks import EarlyStopping\n",
    "#Using early stopping to find number of epochs to train. Too many will lead to overfitting and too few will lead to \n",
    "#underfitting\n",
    "es = EarlyStopping(monitor='val_loss', mode='min', verbose=1, patience=10)\n",
    "history = reg_model.fit(train_scaled, train_labels, epochs=500, batch_size=1, verbose=0, validation_split = 0.2, callbacks = [es])\n"
   ]
  },
  {
   "cell_type": "markdown",
   "id": "45d020bc",
   "metadata": {},
   "source": [
    "Plotting figures that show the MSE and MAE loss metrics and show where the model employed the early stopping."
   ]
  },
  {
   "cell_type": "code",
   "execution_count": null,
   "id": "4f712daf",
   "metadata": {},
   "outputs": [],
   "source": [
    "#creating figure area for 2 plots side-by-side\n",
    "fig, axs = plt.subplots(1,2, figsize=(15, 8))\n",
    "plt.suptitle('Loss functions and Number of Epochs with Early-Stopping')\n",
    "(ax1, ax2) = axs\n",
    "\n",
    "#first plot MAE vs epochs\n",
    "ax1.plot(history.history['loss'], label='train')\n",
    "ax1.plot(history.history['val_loss'], label='validation')\n",
    "ax1.legend(loc=\"upper right\")\n",
    "ax1.set_xlabel('Number of Epochs')\n",
    "ax1.set_ylabel('MAE')\n",
    "\n",
    "#second plot MSE vs epochs\n",
    "ax2.plot(history.history['mean_squared_error'], label='train')\n",
    "ax2.plot(history.history['val_mean_squared_error'], label='validation')\n",
    "ax2.legend(loc=\"upper right\")\n",
    "ax2.set_xlabel('Number of Epochs')\n",
    "ax2.set_ylabel('MSE')"
   ]
  },
  {
   "cell_type": "markdown",
   "id": "172f25ac",
   "metadata": {},
   "source": [
    "### Model Evaluation with R-Squared, MSE, and MAE"
   ]
  },
  {
   "cell_type": "code",
   "execution_count": null,
   "id": "37a5388d",
   "metadata": {},
   "outputs": [],
   "source": [
    "from sklearn.metrics import r2_score\n",
    "\n",
    "#model evaluation with mae, and mse\n",
    "res_mae, res_mse = reg_model.evaluate(test_scaled, test_labels, verbose=0)\n",
    "\n",
    "res_mse = round(res_mse, 5)\n",
    "res_mae = round(res_mae, 4)\n",
    "print(res_mse, res_mae)\n",
    "\n",
    "#getting predicted values\n",
    "predictions = reg_model.predict(test_scaled)\n",
    "#calculating R^2 using the predicted values and actual labels.\n",
    "r2 = round(r2_score(test_labels, predictions) * 100, 2)\n",
    "print(r2)"
   ]
  },
  {
   "cell_type": "code",
   "execution_count": null,
   "id": "65dd66a4",
   "metadata": {},
   "outputs": [],
   "source": [
    "print('MAE is ' + f'{res_mse:.{4}f}' + ' which means if we were to randomly look at a datapoint, our prediction would be ' + f'{res_mse:.{4}f}' ' off from the    actual value.')\n",
    "print('Great! The model explains ' + f'{r2:.{0}f}' + '% of the variance in the chance of admissions percentage.')"
   ]
  },
  {
   "cell_type": "markdown",
   "id": "b7fb1fcf",
   "metadata": {},
   "source": [
    "### MAE Baseline\n",
    "\n",
    "The dummy regressor is used to predict a simple baseline for the test data. In this case, I have used median, so the dummy regressor uses the train data to predict the median of the test data. This serves as a baseline in which to compare the mae found using our regression model. "
   ]
  },
  {
   "cell_type": "code",
   "execution_count": null,
   "id": "e7de49ee",
   "metadata": {},
   "outputs": [],
   "source": [
    "from sklearn.dummy import DummyRegressor\n",
    "from sklearn.metrics import mean_absolute_error\n",
    "\n",
    "dummy_regr = DummyRegressor(strategy='median')\n",
    "dummy_regr.fit(train_scaled, train_labels)\n",
    "y_pred = dummy_regr.predict(test_scaled)\n",
    "mae_baseline = round(mean_absolute_error(test_labels, predictions), 5)\n",
    "print(mae_baseline)"
   ]
  },
  {
   "cell_type": "code",
   "execution_count": null,
   "id": "c2af8eb4",
   "metadata": {
    "variables": {
     "mae_baseline": {},
     "res_mae": {}
    }
   },
   "outputs": [],
   "source": [
    "print('Our model gave an mae of  ' + f'{res_mae:.{4}f}' + '  and our baseline is  ' + f'{mae_baseline:.{4}f}' + ' , so we met the baseline parameter.')"
   ]
  },
  {
   "cell_type": "markdown",
   "id": "a21590d4",
   "metadata": {},
   "source": [
    "### Conclusions\n",
    "\n",
    "The best model found could only make the baseline MAE value, but explained a lot of the variance in our model.\n",
    "\n",
    "I will continue to play with different hyperpaprameters during this course to understand how I can get better predictions in the future."
   ]
  }
 ],
 "metadata": {
  "kernelspec": {
   "display_name": "Python 3",
   "language": "python",
   "name": "python3"
  },
  "language_info": {
   "codemirror_mode": {
    "name": "ipython",
    "version": 3
   },
   "file_extension": ".py",
   "mimetype": "text/x-python",
   "name": "python",
   "nbconvert_exporter": "python",
   "pygments_lexer": "ipython3",
   "version": "3.7.11"
  }
 },
 "nbformat": 4,
 "nbformat_minor": 5
}
